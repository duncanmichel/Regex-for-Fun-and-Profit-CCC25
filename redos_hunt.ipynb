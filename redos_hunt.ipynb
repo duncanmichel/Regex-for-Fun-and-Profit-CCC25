{
  "nbformat": 4,
  "nbformat_minor": 0,
  "metadata": {
    "colab": {
      "provenance": []
    },
    "kernelspec": {
      "name": "python3",
      "display_name": "Python 3"
    },
    "language_info": {
      "name": "python"
    }
  },
  "cells": [
    {
      "cell_type": "code",
      "execution_count": 1,
      "metadata": {
        "id": "dlZdzL5B79HV"
      },
      "outputs": [],
      "source": [
        "# dependencies\n",
        "import os\n",
        "import re"
      ]
    },
    {
      "cell_type": "code",
      "source": [
        "# clone repository\n",
        "os.system('git clone https://github.com/markedjs/marked.git')\n",
        "os.chdir('marked')\n",
        "# checkout vulnerable branch\n",
        "os.system('git checkout a9696e2')"
      ],
      "metadata": {
        "id": "Y_nEvcJO-ifn",
        "colab": {
          "base_uri": "https://localhost:8080/"
        },
        "outputId": "5f0afab4-75ec-4e56-d389-e75dd33db3f3"
      },
      "execution_count": 2,
      "outputs": [
        {
          "output_type": "execute_result",
          "data": {
            "text/plain": [
              "0"
            ]
          },
          "metadata": {},
          "execution_count": 2
        }
      ]
    },
    {
      "cell_type": "code",
      "source": [
        "js_files = []\n",
        "for root, dirs, files in os.walk('.'):\n",
        "    for file in files:\n",
        "        if file.endswith('.js'):\n",
        "            js_files.append(os.path.join(root, file))\n",
        "\n",
        "print(f\"Found {len(js_files)} JavaScript files:\")\n",
        "for js_file in js_files:\n",
        "    print(js_file)"
      ],
      "metadata": {
        "id": "p2T5Jdao_GmQ",
        "colab": {
          "base_uri": "https://localhost:8080/"
        },
        "outputId": "97d75772-36ec-4e6a-a162-07b4b6f3b0f0"
      },
      "execution_count": 3,
      "outputs": [
        {
          "output_type": "stream",
          "name": "stdout",
          "text": [
            "Found 31 JavaScript files:\n",
            "./rollup.config.esm.js\n",
            "./rollup.config.js\n",
            "./build-docs.js\n",
            "./marked.min.js\n",
            "./api/dingus.js\n",
            "./docs/demo/demo.js\n",
            "./docs/demo/worker.js\n",
            "./bin/marked.js\n",
            "./lib/marked.umd.js\n",
            "./lib/marked.esm.js\n",
            "./src/TextRenderer.js\n",
            "./src/rules.js\n",
            "./src/marked.js\n",
            "./src/defaults.js\n",
            "./src/Renderer.js\n",
            "./src/Slugger.js\n",
            "./src/Lexer.js\n",
            "./src/Tokenizer.js\n",
            "./src/Parser.js\n",
            "./src/helpers.js\n",
            "./test/rules.js\n",
            "./test/update-specs.js\n",
            "./test/bench.js\n",
            "./test/vuln-regex.js\n",
            "./test/unit/Parser-spec.js\n",
            "./test/unit/Lexer-spec.js\n",
            "./test/unit/marked-spec.js\n",
            "./test/helpers/load.js\n",
            "./test/helpers/html-differ.js\n",
            "./test/helpers/helpers.js\n",
            "./test/specs/run-spec.js\n"
          ]
        }
      ]
    },
    {
      "cell_type": "code",
      "source": [
        "regex_strings = set()\n",
        "\n",
        "for js_file in js_files:\n",
        "    try:\n",
        "        with open(js_file, 'r', encoding='utf-8') as f:\n",
        "            content = f.read()\n",
        "            # Find strings that look like regular expressions (e.g., /.../)\n",
        "            found_regex = re.findall(r\"=\\s*\\\"\\/((?:[^\\\\\\/\\\"]*\\\\.)*[^\\\\\\/\\\"]*)\\/[gimyus]*\\\"\", content)\n",
        "            for regex in found_regex:\n",
        "                regex_strings.add(regex)\n",
        "            found_regex = re.findall(r\"=\\s*'\\/((?:[^\\\\\\/']*\\\\.)*[^\\\\\\/']*)\\/[gimyus]*'\", content)\n",
        "            for regex in found_regex:\n",
        "                regex_strings.add(regex)\n",
        "            found_regex = re.findall(r\"=\\s*\\/((?:[^\\\\\\/]*\\\\.)*[^\\\\\\/]*)\\/[gimyus]*\", content)\n",
        "            for regex in found_regex:\n",
        "                regex_strings.add(regex)\n",
        "            found_regex = re.findall(r\":\\s*\\/((?:[^\\\\\\/]*\\\\.)*[^\\\\\\/]*)\\/[gimyus]*\", content)\n",
        "            for regex in found_regex:\n",
        "                regex_strings.add(regex)\n",
        "    except Exception as e:\n",
        "        print(f\"Could not read file {js_file}: {e}\")\n",
        "\n",
        "print(f\"Found {len(regex_strings)} unique regular expression strings:\")\n",
        "for regex in regex_strings:\n",
        "    print(regex)"
      ],
      "metadata": {
        "id": "qTlEAv8G_5ZA",
        "colab": {
          "base_uri": "https://localhost:8080/"
        },
        "outputId": "67a64161-10e2-4f93-ca6c-9cdec88eb472"
      },
      "execution_count": 4,
      "outputs": [
        {
          "output_type": "stream",
          "name": "stdout",
          "text": [
            "Found 77 unique regular expression strings:\n",
            "\n",
            "\\\\\\*|\\\\_\n",
            "^ \n",
            "^__(?=\\S)([\\s\\S]*?\\S)__(?!_)|^\\*\\*(?=\\S)([\\s\\S]*?\\S)\\*\\*(?!\\*)\n",
            "\\s+[a-zA-Z:_][\\w.:-]*(?:\\s*=\\s*\"[^\"]*\"|\\s*=\\s*'[^']*'|\\s*=\\s*[^\\s\"'=<>`]+)?\n",
            "*#__PURE__*\n",
            "[a-zA-Z][a-zA-Z0-9+.-]{1,31}\n",
            "^[^_*]*?\\*\\*[^_*]*?\\_[^_*]*?(?=\\*\\*)|[punct*](\\_+)(?=[\\s]|$)|[^punct*_\\s](\\_+)(?=[punct*\\s]|$)|[punct*\\s](\\_+)(?=[^punct*_\\s])|[\\s](\\_+)(?=[punct*])|[punct*](\\_+)(?=[punct*])\n",
            "^(?:\\*+(?:([punct_])|[^\\s*]))|^_+(?:([punct*])|([^\\s_]))\n",
            "\\n *\\n *$\n",
            "^__|\\*\\*\n",
            "^\\\\([!\"#$%&'()*+,\\-.\n",
            "^([^'\"]*[^\\s])\\s+(['\"])(.*)\\2\n",
            "^ {0,3}\\[(label)\\]: *\\n? *<?([^\\s>]+)>?(?:(?: +\\n? *| *\\n *)(title))? *(?:\\n+|$)\n",
            "[A-Za-z0-9._+-]+(@)[a-zA-Z0-9-_]+(?:\\.[a-zA-Z0-9-_]*[a-zA-Z0-9])+(?![-_])\n",
            "(?:\\[(?:\\\\.|[^\\[\\]\\\\])*\\]|\\\\.|`[^`]*`|[^\\[\\]\\\\`])*?\n",
            "^([^\\n]+(?:\\n(?!hr|heading|lheading|blockquote|fences|list|html|table| +\\n)[^\\n]+)*)\n",
            "^:([^\\n]*)(?:\\n|$)\n",
            "^[^:]+:\\/*[^\n",
            "[^ ]\n",
            "^((?:ftp|https?):\\/\\/|www\\.)(?:[a-zA-Z0-9\\-]+\\.?)+[^\\s<]*|^email\n",
            "^:([^\\n]*):(?:\\n|$)\n",
            "[a-zA-Z0-9.!#$%&'*+\n",
            "__(?!_)\n",
            "^<(scheme:[^\\s\\x00-\\x1f<>]*|email)>\n",
            "&(#(?:\\d+)|(?:#x[0-9A-Fa-f]+)|(?:\\w+));?\n",
            "^\\[[ xX]\\] \n",
            "[&<>\"']\n",
            "^([^:]+:\\/*[^\n",
            "^( {4}[^\\n]+(?:\\n(?: *(?:\\n|$))*)?)+\n",
            "<!--(?!-?>)[\\s\\S]*?(?:-->|$)\n",
            "[^\\w:]\n",
            "\\*\\*(?!\\*)\n",
            "(?:[^?!.,:;*_~()&]+|\\([^)]*\\)|&(?![a-zA-Z0-9]+;$)|[?!.,:;*_~)]+(?!$))+\n",
            "^()\\*(?=\\S)([\\s\\S]*?\\S)\\*(?!\\*)|^_(?=\\S)([\\s\\S]*?\\S)_(?!_)\n",
            "^ {0,3}((?:- *){3,}|(?:_ *){3,}|(?:\\* *){3,})(?:\\n+|$)\n",
            "\"(?:\\\\\"?|[^\"\\\\])*\"|'(?:\\\\'?|[^'\\\\])*'|\\((?:\\\\\\)?|[^)\\\\])*\\)\n",
            "[<>\"']|&(?!#?\\w+;)\n",
            "^( {0,3}bull)( [^\\n]+?)?(?:\\n|$)\n",
            "^[^_*]*?\\_\\_[^_*]*?\\*[^_*]*?(?=\\_\\_)|[punct_](\\*+)(?=[\\s]|$)|[^punct*_\\s](\\*+)(?=[punct_\\s]|$)|[punct_\\s](\\*+)(?=[^punct*_\\s])|[\\s](\\*+)(?=[punct_])|[punct_](\\*+)(?=[punct_])|[^punct*_\\s](\\*+)(?=[^punct*_\\s])\n",
            "(?!\\s*\\])(?:\\\\[\\[\\]]|[^\\[\\]])+\n",
            "^(#{1,6})(.*)(?:\\n+|$)\n",
            "^ *:-+ *$\n",
            "^(`+|[^`])(?:(?= {2,}\\n)|[\\s\\S]*?(?:(?=[\\\\<!\\[`*_]|\\b_|$)|[^ ](?= {2,}\\n)))\n",
            "^(?::[^:\\n]+:[^:\\n]*(?:\\n|$))+\n",
            "^ *\\[([^\\]]+)\\]: *<?([^\\s>]+)>?(?: +([\"(][^\\n]+[\")]))? *(?:\\n+|$)\n",
            "^(?: *(?:\\n|$))+\n",
            "^$|^[a-z][a-z0-9+.-]*:|^[?#]\n",
            "\\[[^\\]]*?\\]\\([^\\)]*?\\)|`[^`]*?`|<[^>]*?>\n",
            "^!?\\[(label)\\]\\(\\s*(href)(?:\\s+(title))?\\s*\\)\n",
            "(^|[^\\[])\\^\n",
            "(?:[*+-]|\\d{1,9}[.)])\n",
            "^<\n",
            "^([\\spunctuation])\n",
            "^=([^=]+)=\n",
            "^(`+)([^`]|[^`][\\s\\S]*?[^`])\\1(?!`)\n",
            "^([^:]+:)[\\s\\S]*$\n",
            "^ {0,3}(`{3,}(?=[^`\\n]*\\n)|~{3,})([^\\n]*)\\n(?:|([\\s\\S]*?)\\n)(?: {0,3}\\1[~`]* *(?=\\n|$)|$)\n",
            "^!?\\[(?!\\s*\\])((?:\\[[^\\[\\]]*\\]|\\\\[\\[\\]]|[^\\[\\]])*)\\](?:\\[\\])?\n",
            "_(?!_)\n",
            "^!?\\[(label)\\]\\[(?!\\s*\\])((?:\\\\[\\[\\]]?|[^\\[\\]\\\\])+)\\]\n",
            "^ {0,3}(#{1,6})(?=\\s|$)(.*)(?:\\n+|$)\n",
            "^ *:-+: *$\n",
            "^:([^:\\n]+):([^:\\n]*)(?:\\n|$)\n",
            "^ *{([^\\{\\}\\n]+)}$\n",
            "^( {0,3}> ?(paragraph|[^\\n]*)(?:\\n|$))+\n",
            "^([^\\n]+)\\n {0,3}(=+|-+) *(?:\\n+|$)\n",
            "<(?:\\\\.|[^\\n<>\\\\])+>|[^\\s\\x00-\\x1f]*\n",
            "^[^\\n]+\n",
            "(<[^\\s<>]+)([^\\n<>]*>.*)\n",
            "^_|\\*\n",
            "^( {2,}|\\\\)\\n(?!\\s*$)\n",
            "(?:\"(?:\\\\\"?|[^\"\\\\])*\"|'[^'\\n]*(?:\\n[^'\\n]+)*\\n?'|\\([^()]*\\))\n",
            "^([`~]+|[^`~])(?:(?= {2,}\\n)|(?=[a-zA-Z0-9.!#$%&'*+\\/=?_`{\\|}~-]+@)|[\\s\\S]*?(?:(?=[\\\\<!\\[`*~_]|\\b_|https?:\\/\\/|ftp:\\/\\/|www\\.|$)|[^ ](?= {2,}\\n)|[^a-zA-Z0-9.!#$%&'*+\\/=?_`{\\|}~-](?=[a-zA-Z0-9.!#$%&'*+\\/=?_`{\\|}~-]+@)))\n",
            "\\*(?!\\*)\n",
            "^(~~?)(?=[^\\s~])([\\s\\S]*?[^\\s~])\\1(?=[^~]|$)\n",
            "\\\\([!\"#$%&'()*+,\\-.\n"
          ]
        }
      ]
    },
    {
      "cell_type": "code",
      "source": [
        "redos = r\"(?:([^\\\\)\\]\\/+*}]|\\\\.)|\\((?:\\?:)?(?:(?:[^)\\\\]*\\\\.)*[^)\\\\]*\\|)?([^\\\\)\\]\\/+*}]|\\\\.)(?:\\|(?:[^)\\\\]*\\\\.)*[^)\\\\]*)?\\))[+*](?:(?:[^\\\\)\\]\\/+*}]|\\\\.|\\((?:\\?:)?(?:(?:[^)\\\\]*\\\\.)*[^)\\\\]*\\|)?(?:[^\\\\)\\]\\/+*}]|\\\\.)(?:\\|(?:[^)\\\\]*\\\\.)*[^)\\\\]*)?\\))\\?)?(?:(?:\\1|\\2)|\\((?:\\?:)?(?:(?:[^)\\\\]*\\\\.)*[^)\\\\]*\\|)?(?:\\1|\\2)(?:\\|(?:[^)\\\\]*\\\\.)*[^)\\\\]*)?\\))[+*]\"\n",
        "\n",
        "for regex in regex_strings:\n",
        "  if re.search(redos, regex):\n",
        "    print(f\"The following regex is vulnerable to redos: {regex}\")\n"
      ],
      "metadata": {
        "id": "rgDialDW8Aqr",
        "colab": {
          "base_uri": "https://localhost:8080/"
        },
        "outputId": "0ec8bc33-b595-4f5c-a7e2-a4a926863ef5"
      },
      "execution_count": 5,
      "outputs": [
        {
          "output_type": "stream",
          "name": "stdout",
          "text": [
            "The following regex is vulnerable to redos: ^ {0,3}\\[(label)\\]: *\\n? *<?([^\\s>]+)>?(?:(?: +\\n? *| *\\n *)(title))? *(?:\\n+|$)\n"
          ]
        }
      ]
    },
    {
      "cell_type": "code",
      "source": [],
      "metadata": {
        "id": "s1ZWN3hC-Wwh"
      },
      "execution_count": null,
      "outputs": []
    }
  ]
}